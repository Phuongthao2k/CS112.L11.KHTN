{
 "cells": [
  {
   "cell_type": "markdown",
   "metadata": {
    "colab_type": "text",
    "id": "view-in-github"
   },
   "source": [
    "<a href=\"https://colab.research.google.com/github/hoangnhancs/CS112.L11.KHTN/blob/master/Section1/TomTatBuoiHoc1.ipynb\" target=\"_parent\"><img src=\"https://colab.research.google.com/assets/colab-badge.svg\" alt=\"Open In Colab\"/></a>"
   ]
  },
  {
   "cell_type": "markdown",
   "metadata": {
    "colab_type": "text",
    "id": "6YHdvQL9DW1u"
   },
   "source": [
    "# Tóm tắt buổi học 1 (10-09-2020)\n",
    "\n",
    "1. Giới thiệu về COMPUTATIONAL THINKING, phân tích các step sử dụng trong COMPUTATIONAL THINKING , từ đó tạo ra hướng đi tư duy giải quyết một bài toán thực tế. \n",
    "\n",
    "2. Giải thử nghiệm bài toán BOT sử dụng các bước của COMPUTATIONAL THINKING.\n",
    "\n",
    "3. Phổ biến chương trình học môn Phân tích và thiết kế thuật toán , nội quy lớp học, giải thích việc vì sao phải học môn học , đưa ra các câu hỏi thắc mắc cho giảng viên.\n",
    "\n",
    "4. Phân chia nhóm phục vụ cho việc học và làm đồ án. Trong đó , thầy hướng sẽ thực hiện việc submit bài tập như thế nào ,hoạt động nhóm ra sao tiêu chí nào để chấm điểm cho môn học, thang đánh giá điểm môn học.\n"
   ]
  }
 ],
 "metadata": {
  "colab": {
   "collapsed_sections": [],
   "include_colab_link": true,
   "name": "Colaboratory chào mừng bạn!",
   "provenance": [],
   "toc_visible": true
  },
  "kernelspec": {
   "display_name": "Python 3",
   "language": "python",
   "name": "python3"
  },
  "language_info": {
   "codemirror_mode": {
    "name": "ipython",
    "version": 3
   },
   "file_extension": ".py",
   "mimetype": "text/x-python",
   "name": "python",
   "nbconvert_exporter": "python",
   "pygments_lexer": "ipython3",
   "version": "3.8.5"
  }
 },
 "nbformat": 4,
 "nbformat_minor": 4
}
