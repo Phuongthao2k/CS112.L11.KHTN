{
 "metadata": {
  "language_info": {
   "codemirror_mode": {
    "name": "ipython",
    "version": 3
   },
   "file_extension": ".py",
   "mimetype": "text/x-python",
   "name": "python",
   "nbconvert_exporter": "python",
   "pygments_lexer": "ipython3",
   "version": "3.6.9-final"
  },
  "orig_nbformat": 2,
  "kernelspec": {
   "name": "python36964bita5cd52692ab2473a86dcac2eeed2bc71",
   "display_name": "Python 3.6.9 64-bit"
  }
 },
 "nbformat": 4,
 "nbformat_minor": 2,
 "cells": [
  {
   "source": [
    "1. Abstraction: Tìm vị trí p, q và tổng các phần tử từ vị trí p đến q của dãy a sao cho tổng đó là lớn nhất\n",
    "2. Pattern Recognition: Thuật toán Kadane(thuật toán tìm dãy con lớn nhất). Ý tưởng của thuật toán là quét qua các phần tử của mảng, tính tại từng vị trí tổng lớn nhất có thể của các mảng con kết thúc tại vị trí đó. Mảng con này có thể rỗng khi tổng của các phần tử bằng 0 hoặc có thể chứa nhiều hơn một phần tử so với mảng con lớn nhất tại vị trí trước đó. Đồng thời mảng con lớn nhất kết thúc tại vị trí i được tính dựa trên mảng con lớn nhất kết thúc tại vị trí i-1 -> Bài toán quy hoạch động \n",
    "3. Algorithm designed: Mã giả\n",
    "\n",
    "max_sum_present = 0 (dùng để gán tổng lớn nhất cần tìm)\n",
    "\n",
    "max_ending_at = 0 (dùng để gán giá trị kết thúc của mảng con cần tìm)\n",
    "\n",
    "start_index = 0 (dùng để gán giá trị bắt đầu của mảng con cần tìm)\n",
    "\n",
    "start_temp = -1 (biến này có 2 mục đích dùng. Mục đích thứ nhất, là dùng để kiểm tra chuỗi con kết thúc tại vị trí i-1 có âm hay không. Vì nếu chuỗi con kết thúc tại i-1 âm thì chuỗi con kết lớn nhất kết thúc tại vị trí i sẽ là chính phần tử tại i. Mục đích thứ 2 là lưu tạm thời vị trí bắt đầu của mảng con cần tìm)\n",
    "\n",
    "ending_index = 0 (dùng để gán giá tị kết thúc của mảng con cần tìm))\n",
    "\n",
    "for i in (0, len(a)):\n",
    "\n",
    "    max_ending_at <- max_ending_at + a[i]  (tính mảng con lớn nhất kết thúc tại vị trí đang xét)\n",
    "\n",
    "    if (max_ending_at<0): (kiểm tra mảng con kết thúc tại i này có âm hay không)\n",
    "\n",
    "        max_ending_at <- 0 (nếu là âm thì max_ending_at trở về 0)\n",
    "\n",
    "        start_temp <- -1 (đồng thời start_temp trở về -1)\n",
    "\n",
    "    else:\n",
    "\n",
    "        if start_temp==-1: (tức là nếu chuỗi con lớn nhất tại i-1 nhỏ hơn 0)\n",
    "\n",
    "            start_temp <- i (thì mảng con lớn nhất kết thúc tại i sẽ là a[i])\n",
    "\n",
    "        if max_sum_present < max_ending_at: (kiếm tra tổng mảng con lớn nhất đang xét có lớn hơn giá trị cũ hay không)\n",
    "\n",
    "            max_sum_present <- max_ending_at (nếu lớn hơn thì update giá trị mảng con lớn nhất)\n",
    "\n",
    "            start_index <- start_temp (GÁN giá trị bắt đầu)\n",
    "\n",
    "            ending_index <- i (UPDATE giá trị kết thúc))\n",
    "            \n",
    "    return start_index, ending_index, max_sum_present (trả về kết quả)\n"
   ],
   "cell_type": "markdown",
   "metadata": {
    "tags": []
   }
  },
  {
   "cell_type": "code",
   "execution_count": 14,
   "metadata": {
    "tags": []
   },
   "outputs": [
    {
     "output_type": "stream",
     "name": "stdout",
     "text": "1 1 0\n"
    }
   ],
   "source": [
    "def kadane(seqs):\n",
    "  max_sum_present = 0\n",
    "  max_ending_at = 0\n",
    "  start_index = 0\n",
    "  \n",
    "  start_temp = -1\n",
    "  ending_index = 0\n",
    "  for i in range(len(seqs)):\n",
    "    max_ending_at += seqs[i]\n",
    "    if (max_ending_at < 0):\n",
    "      max_ending_at = 0\n",
    "      start_temp = -1\n",
    "    else:\n",
    "      if start_temp == -1:\n",
    "        start_temp = i\n",
    "      if max_sum_present < max_ending_at:\n",
    "        max_sum_present = max_ending_at\n",
    "        start_index = start_temp\n",
    "        ending_index = i\n",
    "  return start_index+1, ending_index+1, max_sum_present \n",
    "\n",
    "#a = [2, -4, 5, -8, 4, -1, -1, 1, 1, 1, -2, 2, 4, -6, 9, -4]\n",
    "n = input()\n",
    "n = int(n)\n",
    "a = list(map(int, input().split()))\n",
    "start,stop,profit = kadane(a)\n",
    "print(start,stop,profit)"
   ]
  },
  {
   "cell_type": "code",
   "execution_count": null,
   "metadata": {},
   "outputs": [],
   "source": []
  }
 ]
}