{
 "metadata": {
  "language_info": {
   "codemirror_mode": {
    "name": "ipython",
    "version": 3
   },
   "file_extension": ".py",
   "mimetype": "text/x-python",
   "name": "python",
   "nbconvert_exporter": "python",
   "pygments_lexer": "ipython3",
   "version": 3
  },
  "orig_nbformat": 2
 },
 "nbformat": 4,
 "nbformat_minor": 2,
 "cells": [
  {
   "source": [
    "# **COMPUTATIONAL THINKING**\n",
    "## **INTRODUCTION**\n",
    "### *What is Computational Thinking?* \n",
    "### In education, computational thinking (CT) is a set of **problem-solving methods**, we analyze, solve the problem like a computer, and come up with a solution that the computer **can execute**."
   ],
   "cell_type": "markdown",
   "metadata": {}
  },
  {
   "source": [
    "## **PILLARS OF COMPUTATIONAL THINKING**\n",
    "### *1. Decomposition*\n",
    "#### Breaking the problem down into smaller parts, that easier to manage and solve\n",
    "### *2. Pattern Recognition*\n",
    "#### a\n",
    "### *3. Abstraction*\n",
    "### *4. Algorithms*"
   ],
   "cell_type": "markdown",
   "metadata": {}
  },
  {
   "source": [],
   "cell_type": "markdown",
   "metadata": {}
  }
 ]
}